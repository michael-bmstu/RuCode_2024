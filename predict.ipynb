{
 "cells": [
  {
   "cell_type": "markdown",
   "metadata": {},
   "source": [
    "# Import"
   ]
  },
  {
   "cell_type": "code",
   "execution_count": 95,
   "metadata": {},
   "outputs": [],
   "source": [
    "import pandas as pd\n",
    "import numpy as np\n",
    "from catboost import Pool\n",
    "from sklearn.metrics import mean_absolute_percentage_error as mape\n",
    "from sklearn.cluster import KMeans\n",
    "from sklearn.impute import SimpleImputer\n",
    "from sklearn.feature_selection import mutual_info_regression\n",
    "from sklearn.decomposition import PCA\n",
    "import random\n",
    "from os import path\n",
    "\n",
    "seed = 20033002\n",
    "random.seed(seed)"
   ]
  },
  {
   "cell_type": "markdown",
   "metadata": {},
   "source": [
    "# Data preprocessing"
   ]
  },
  {
   "cell_type": "code",
   "execution_count": 96,
   "metadata": {},
   "outputs": [
    {
     "data": {
      "text/html": [
       "<div>\n",
       "<style scoped>\n",
       "    .dataframe tbody tr th:only-of-type {\n",
       "        vertical-align: middle;\n",
       "    }\n",
       "\n",
       "    .dataframe tbody tr th {\n",
       "        vertical-align: top;\n",
       "    }\n",
       "\n",
       "    .dataframe thead th {\n",
       "        text-align: right;\n",
       "    }\n",
       "</style>\n",
       "<table border=\"1\" class=\"dataframe\">\n",
       "  <thead>\n",
       "    <tr style=\"text-align: right;\">\n",
       "      <th></th>\n",
       "      <th>Тип_жилья</th>\n",
       "      <th>Широта</th>\n",
       "      <th>Долгота</th>\n",
       "      <th>Город</th>\n",
       "      <th>Индекс</th>\n",
       "      <th>Площадь</th>\n",
       "      <th>Этаж</th>\n",
       "      <th>Размер_участка</th>\n",
       "      <th>Расход_тепла</th>\n",
       "      <th>Ктгр_энергоэффективности</th>\n",
       "      <th>...</th>\n",
       "      <th>Нлч_парковки</th>\n",
       "      <th>Нлч_почтового_ящика</th>\n",
       "      <th>Нлч_балкона</th>\n",
       "      <th>Нлч_террасы</th>\n",
       "      <th>Нлч_подвала</th>\n",
       "      <th>Нлч_гаража</th>\n",
       "      <th>Нлч_кондиционера</th>\n",
       "      <th>Последний_этаж</th>\n",
       "      <th>Верхний_этаж</th>\n",
       "      <th>Цена</th>\n",
       "    </tr>\n",
       "    <tr>\n",
       "      <th>id</th>\n",
       "      <th></th>\n",
       "      <th></th>\n",
       "      <th></th>\n",
       "      <th></th>\n",
       "      <th></th>\n",
       "      <th></th>\n",
       "      <th></th>\n",
       "      <th></th>\n",
       "      <th></th>\n",
       "      <th></th>\n",
       "      <th></th>\n",
       "      <th></th>\n",
       "      <th></th>\n",
       "      <th></th>\n",
       "      <th></th>\n",
       "      <th></th>\n",
       "      <th></th>\n",
       "      <th></th>\n",
       "      <th></th>\n",
       "      <th></th>\n",
       "      <th></th>\n",
       "    </tr>\n",
       "  </thead>\n",
       "  <tbody>\n",
       "    <tr>\n",
       "      <th>35831305</th>\n",
       "      <td>квартира</td>\n",
       "      <td>48.875375</td>\n",
       "      <td>2.483820</td>\n",
       "      <td>rosny-sous-bois</td>\n",
       "      <td>4575</td>\n",
       "      <td>64.0</td>\n",
       "      <td>2.0</td>\n",
       "      <td>NaN</td>\n",
       "      <td>150.0</td>\n",
       "      <td>C</td>\n",
       "      <td>...</td>\n",
       "      <td>0.0</td>\n",
       "      <td>0.0</td>\n",
       "      <td>1.0</td>\n",
       "      <td>0.0</td>\n",
       "      <td>1.0</td>\n",
       "      <td>0.0</td>\n",
       "      <td>0.0</td>\n",
       "      <td>0.0</td>\n",
       "      <td>0.0</td>\n",
       "      <td>295000.0</td>\n",
       "    </tr>\n",
       "    <tr>\n",
       "      <th>35854039</th>\n",
       "      <td>квартира</td>\n",
       "      <td>45.522327</td>\n",
       "      <td>4.869322</td>\n",
       "      <td>vienne</td>\n",
       "      <td>1793</td>\n",
       "      <td>75.0</td>\n",
       "      <td>NaN</td>\n",
       "      <td>NaN</td>\n",
       "      <td>220.0</td>\n",
       "      <td>D</td>\n",
       "      <td>...</td>\n",
       "      <td>0.0</td>\n",
       "      <td>0.0</td>\n",
       "      <td>0.0</td>\n",
       "      <td>0.0</td>\n",
       "      <td>0.0</td>\n",
       "      <td>0.0</td>\n",
       "      <td>0.0</td>\n",
       "      <td>0.0</td>\n",
       "      <td>0.0</td>\n",
       "      <td>194000.0</td>\n",
       "    </tr>\n",
       "    <tr>\n",
       "      <th>36058437</th>\n",
       "      <td>квартира</td>\n",
       "      <td>43.672828</td>\n",
       "      <td>1.281469</td>\n",
       "      <td>mondonville</td>\n",
       "      <td>1425</td>\n",
       "      <td>42.0</td>\n",
       "      <td>NaN</td>\n",
       "      <td>NaN</td>\n",
       "      <td>NaN</td>\n",
       "      <td>NaN</td>\n",
       "      <td>...</td>\n",
       "      <td>0.0</td>\n",
       "      <td>0.0</td>\n",
       "      <td>1.0</td>\n",
       "      <td>0.0</td>\n",
       "      <td>0.0</td>\n",
       "      <td>0.0</td>\n",
       "      <td>0.0</td>\n",
       "      <td>0.0</td>\n",
       "      <td>0.0</td>\n",
       "      <td>179000.0</td>\n",
       "    </tr>\n",
       "    <tr>\n",
       "      <th>35989147</th>\n",
       "      <td>дом</td>\n",
       "      <td>44.158752</td>\n",
       "      <td>1.532081</td>\n",
       "      <td>caussade</td>\n",
       "      <td>4077</td>\n",
       "      <td>102.0</td>\n",
       "      <td>NaN</td>\n",
       "      <td>2000.0</td>\n",
       "      <td>NaN</td>\n",
       "      <td>NaN</td>\n",
       "      <td>...</td>\n",
       "      <td>0.0</td>\n",
       "      <td>0.0</td>\n",
       "      <td>0.0</td>\n",
       "      <td>1.0</td>\n",
       "      <td>0.0</td>\n",
       "      <td>0.0</td>\n",
       "      <td>0.0</td>\n",
       "      <td>0.0</td>\n",
       "      <td>0.0</td>\n",
       "      <td>205000.0</td>\n",
       "    </tr>\n",
       "    <tr>\n",
       "      <th>36029269</th>\n",
       "      <td>квартира</td>\n",
       "      <td>47.655212</td>\n",
       "      <td>-2.754196</td>\n",
       "      <td>vannes</td>\n",
       "      <td>2498</td>\n",
       "      <td>84.0</td>\n",
       "      <td>3.0</td>\n",
       "      <td>NaN</td>\n",
       "      <td>NaN</td>\n",
       "      <td>NaN</td>\n",
       "      <td>...</td>\n",
       "      <td>1.0</td>\n",
       "      <td>0.0</td>\n",
       "      <td>1.0</td>\n",
       "      <td>0.0</td>\n",
       "      <td>1.0</td>\n",
       "      <td>0.0</td>\n",
       "      <td>0.0</td>\n",
       "      <td>0.0</td>\n",
       "      <td>0.0</td>\n",
       "      <td>508000.0</td>\n",
       "    </tr>\n",
       "  </tbody>\n",
       "</table>\n",
       "<p>5 rows × 27 columns</p>\n",
       "</div>"
      ],
      "text/plain": [
       "         Тип_жилья     Широта   Долгота            Город  Индекс  Площадь  \\\n",
       "id                                                                          \n",
       "35831305  квартира  48.875375  2.483820  rosny-sous-bois    4575     64.0   \n",
       "35854039  квартира  45.522327  4.869322           vienne    1793     75.0   \n",
       "36058437  квартира  43.672828  1.281469      mondonville    1425     42.0   \n",
       "35989147       дом  44.158752  1.532081         caussade    4077    102.0   \n",
       "36029269  квартира  47.655212 -2.754196           vannes    2498     84.0   \n",
       "\n",
       "          Этаж  Размер_участка  Расход_тепла Ктгр_энергоэффективности  ...  \\\n",
       "id                                                                     ...   \n",
       "35831305   2.0             NaN         150.0                        C  ...   \n",
       "35854039   NaN             NaN         220.0                        D  ...   \n",
       "36058437   NaN             NaN           NaN                      NaN  ...   \n",
       "35989147   NaN          2000.0           NaN                      NaN  ...   \n",
       "36029269   3.0             NaN           NaN                      NaN  ...   \n",
       "\n",
       "          Нлч_парковки Нлч_почтового_ящика Нлч_балкона  Нлч_террасы  \\\n",
       "id                                                                    \n",
       "35831305           0.0                 0.0         1.0          0.0   \n",
       "35854039           0.0                 0.0         0.0          0.0   \n",
       "36058437           0.0                 0.0         1.0          0.0   \n",
       "35989147           0.0                 0.0         0.0          1.0   \n",
       "36029269           1.0                 0.0         1.0          0.0   \n",
       "\n",
       "          Нлч_подвала  Нлч_гаража  Нлч_кондиционера  Последний_этаж  \\\n",
       "id                                                                    \n",
       "35831305          1.0         0.0               0.0             0.0   \n",
       "35854039          0.0         0.0               0.0             0.0   \n",
       "36058437          0.0         0.0               0.0             0.0   \n",
       "35989147          0.0         0.0               0.0             0.0   \n",
       "36029269          1.0         0.0               0.0             0.0   \n",
       "\n",
       "          Верхний_этаж      Цена  \n",
       "id                                \n",
       "35831305           0.0  295000.0  \n",
       "35854039           0.0  194000.0  \n",
       "36058437           0.0  179000.0  \n",
       "35989147           0.0  205000.0  \n",
       "36029269           0.0  508000.0  \n",
       "\n",
       "[5 rows x 27 columns]"
      ]
     },
     "execution_count": 96,
     "metadata": {},
     "output_type": "execute_result"
    }
   ],
   "source": [
    "AUX_DATA_ROOT = \"./data\"\n",
    "AUX_WEIGHT_ROOT = './weights'\n",
    "\n",
    "train = pd.read_csv(path.join(AUX_DATA_ROOT, 'train.csv'), index_col='id')\n",
    "# test = pd.read_csv(path.join(AUX_DATA_ROOT, 'private_test.csv'), index_col='id')\n",
    "test = pd.read_csv(path.join(AUX_DATA_ROOT, 'public_test.csv'), index_col='id')\n",
    "\n",
    "target = 'Цена'\n",
    "train_idx = train.shape[0]\n",
    "Y = train[target]\n",
    "\n",
    "train.head()"
   ]
  },
  {
   "cell_type": "markdown",
   "metadata": {},
   "source": [
    "## Filling NaN"
   ]
  },
  {
   "cell_type": "code",
   "execution_count": 97,
   "metadata": {},
   "outputs": [
    {
     "data": {
      "text/plain": [
       "array(['квартира', 'дом', 'дуплекс', 'вилла', 'особняк', 'земля',\n",
       "       'разное', 'земля под застройку', 'лофт', 'ферма',\n",
       "       'участок с землей', 'пожизненная рента', 'паркинг', 'шале',\n",
       "       'мельница', 'усадьба', 'дом на воде', 'комната', 'ночлежка',\n",
       "       'мастерская', 'отель-усадьба'], dtype=object)"
      ]
     },
     "execution_count": 97,
     "metadata": {},
     "output_type": "execute_result"
    }
   ],
   "source": [
    "train['Тип_жилья'].unique()"
   ]
  },
  {
   "cell_type": "code",
   "execution_count": 98,
   "metadata": {},
   "outputs": [
    {
     "data": {
      "text/plain": [
       "array(['квартира', 'дом', 'земля', 'земля под застройку',\n",
       "       'участок с землей', 'разное', 'мельница', 'пожизненная рента',\n",
       "       'вилла', 'дуплекс', 'ферма', 'усадьба', 'отель-усадьба', 'лофт',\n",
       "       'дом на воде', 'шале', 'паркинг', 'особняк'], dtype=object)"
      ]
     },
     "execution_count": 98,
     "metadata": {},
     "output_type": "execute_result"
    }
   ],
   "source": [
    "test['Тип_жилья'].unique()"
   ]
  },
  {
   "cell_type": "code",
   "execution_count": 99,
   "metadata": {},
   "outputs": [
    {
     "data": {
      "text/plain": [
       "set()"
      ]
     },
     "execution_count": 99,
     "metadata": {},
     "output_type": "execute_result"
    }
   ],
   "source": [
    "set(test['Тип_жилья'].unique()) - set(train['Тип_жилья'].unique())"
   ]
  },
  {
   "cell_type": "code",
   "execution_count": 100,
   "metadata": {},
   "outputs": [
    {
     "data": {
      "text/html": [
       "<div>\n",
       "<style scoped>\n",
       "    .dataframe tbody tr th:only-of-type {\n",
       "        vertical-align: middle;\n",
       "    }\n",
       "\n",
       "    .dataframe tbody tr th {\n",
       "        vertical-align: top;\n",
       "    }\n",
       "\n",
       "    .dataframe thead th {\n",
       "        text-align: right;\n",
       "    }\n",
       "</style>\n",
       "<table border=\"1\" class=\"dataframe\">\n",
       "  <thead>\n",
       "    <tr style=\"text-align: right;\">\n",
       "      <th></th>\n",
       "      <th>Тип_жилья</th>\n",
       "      <th>Широта</th>\n",
       "      <th>Долгота</th>\n",
       "      <th>Город</th>\n",
       "      <th>Индекс</th>\n",
       "      <th>Площадь</th>\n",
       "      <th>Этаж</th>\n",
       "      <th>Размер_участка</th>\n",
       "      <th>Расход_тепла</th>\n",
       "      <th>Ктгр_энергоэффективности</th>\n",
       "      <th>...</th>\n",
       "      <th>Кво_фото</th>\n",
       "      <th>Нлч_парковки</th>\n",
       "      <th>Нлч_почтового_ящика</th>\n",
       "      <th>Нлч_балкона</th>\n",
       "      <th>Нлч_террасы</th>\n",
       "      <th>Нлч_подвала</th>\n",
       "      <th>Нлч_гаража</th>\n",
       "      <th>Нлч_кондиционера</th>\n",
       "      <th>Последний_этаж</th>\n",
       "      <th>Верхний_этаж</th>\n",
       "    </tr>\n",
       "    <tr>\n",
       "      <th>id</th>\n",
       "      <th></th>\n",
       "      <th></th>\n",
       "      <th></th>\n",
       "      <th></th>\n",
       "      <th></th>\n",
       "      <th></th>\n",
       "      <th></th>\n",
       "      <th></th>\n",
       "      <th></th>\n",
       "      <th></th>\n",
       "      <th></th>\n",
       "      <th></th>\n",
       "      <th></th>\n",
       "      <th></th>\n",
       "      <th></th>\n",
       "      <th></th>\n",
       "      <th></th>\n",
       "      <th></th>\n",
       "      <th></th>\n",
       "      <th></th>\n",
       "      <th></th>\n",
       "    </tr>\n",
       "  </thead>\n",
       "  <tbody>\n",
       "  </tbody>\n",
       "</table>\n",
       "<p>0 rows × 26 columns</p>\n",
       "</div>"
      ],
      "text/plain": [
       "Empty DataFrame\n",
       "Columns: [Тип_жилья, Широта, Долгота, Город, Индекс, Площадь, Этаж, Размер_участка, Расход_тепла, Ктгр_энергоэффективности, Кво_вредных_выбросов, Ктгр_вредных_выбросов, Направление, Кво_комнат, Кво_спален, Кво_ванных, Кво_фото, Нлч_парковки, Нлч_почтового_ящика, Нлч_балкона, Нлч_террасы, Нлч_подвала, Нлч_гаража, Нлч_кондиционера, Последний_этаж, Верхний_этаж]\n",
       "Index: []\n",
       "\n",
       "[0 rows x 26 columns]"
      ]
     },
     "execution_count": 100,
     "metadata": {},
     "output_type": "execute_result"
    }
   ],
   "source": [
    "test.loc[test['Тип_жилья'] == 'отель']"
   ]
  },
  {
   "cell_type": "code",
   "execution_count": 101,
   "metadata": {},
   "outputs": [
    {
     "data": {
      "text/plain": [
       "0"
      ]
     },
     "execution_count": 101,
     "metadata": {},
     "output_type": "execute_result"
    }
   ],
   "source": [
    "def fill_na(df):    \n",
    "    # custom filling\n",
    "    means = train.groupby(by='Тип_жилья')['Размер_участка'].mean().isna()\n",
    "    zero_types = means.index[means.values]\n",
    "    df.loc[df['Тип_жилья'].isin(zero_types), 'Размер_участка'] = 0\n",
    "    \n",
    "    means = train.groupby(by='Тип_жилья')['Расход_тепла'].mean().isna()\n",
    "    zero_types = means.index[means.values]\n",
    "    df.loc[df['Тип_жилья'].isin(zero_types), ['Расход_тепла', 'Кво_вредных_выбросов']] = 0\n",
    "\n",
    "    mode = train.groupby(by='Тип_жилья')['Ктгр_энергоэффективности'].agg(lambda x: x.mode())\n",
    "    empty_indices = [i for i, x in enumerate(mode.values) if isinstance(x, np.ndarray) and len(x) == 0]\n",
    "    unk_types = mode.index[empty_indices]\n",
    "    df.loc[df['Тип_жилья'].isin(unk_types), ['Ктгр_энергоэффективности', 'Ктгр_вредных_выбросов']] = 'unkown'\n",
    "    \n",
    "    mode = train.groupby(by='Тип_жилья')['Направление'].agg(lambda x: x.mode())\n",
    "    empty_indices = [i for i, x in enumerate(mode.values) if isinstance(x, np.ndarray) and len(x) == 0]\n",
    "    unk_types = mode.index[empty_indices]\n",
    "    df.loc[df['Тип_жилья'].isin(unk_types), 'Направление'] = 'unkown'\n",
    "    \n",
    "    df.fillna({'Кво_фото': 0}, inplace=True)\n",
    "    df.loc[(df['Тип_жилья'] == 'комната') & df['Кво_спален'].isna(), 'Кво_спален'] = 1\n",
    "    \n",
    "    nan_num_cols = ['Площадь', 'Кво_комнат', 'Кво_спален', 'Размер_участка','Расход_тепла', 'Кво_вредных_выбросов']\n",
    "    med_groups = train.groupby('Тип_жилья')[nan_num_cols].median()\n",
    "    med_groups.loc['отель'] = med_groups.loc['отель-усадьба'] # private test special case\n",
    "\n",
    "    for col in nan_num_cols:\n",
    "        df[col] = df.apply(\n",
    "            lambda row: med_groups[col][row['Тип_жилья']] if pd.isna(row[col]) else row[col],\n",
    "            axis=1)\n",
    "    \n",
    "    # simple filling\n",
    "    si_n = SimpleImputer(strategy='median')\n",
    "    si_c = SimpleImputer(strategy='most_frequent')\n",
    "    \n",
    "    num_cols = df.select_dtypes(include='number').columns\n",
    "    si_n.fit(train[num_cols])\n",
    "    df[num_cols] = si_n.transform(df[num_cols])\n",
    "    \n",
    "    cat_cols = df.select_dtypes(include='O').columns\n",
    "    si_c.fit(train[cat_cols])\n",
    "    df[cat_cols] = si_c.transform(df[cat_cols])\n",
    "    \n",
    "    return df\n",
    "\n",
    "test = fill_na(test)\n",
    "train = fill_na(train)\n",
    "\n",
    "df = pd.concat((train.drop(columns=target), test))\n",
    "df.isna().sum().sum()"
   ]
  },
  {
   "cell_type": "markdown",
   "metadata": {},
   "source": [
    "## EDA"
   ]
  },
  {
   "cell_type": "markdown",
   "metadata": {},
   "source": [
    "### Logarithmic and count features"
   ]
  },
  {
   "cell_type": "code",
   "execution_count": 102,
   "metadata": {},
   "outputs": [],
   "source": [
    "def log_nan(row):\n",
    "    row[row < 1] = 1\n",
    "    return np.log(row)\n",
    "\n",
    "# add features\n",
    "df_ext = df.copy()\n",
    "\n",
    "cols_to_log = ['Площадь', 'Размер_участка', 'Расход_тепла', 'Кво_вредных_выбросов',]\n",
    "log_cols = ['Лог_' + col for col in cols_to_log]\n",
    "df_ext[log_cols] = df[cols_to_log].apply(log_nan)\n",
    "\n",
    "bool_cols = ['Нлч_парковки', 'Нлч_почтового_ящика', 'Нлч_балкона', 'Нлч_террасы', 'Нлч_подвала', \n",
    "            'Нлч_гаража', 'Нлч_кондиционера']\n",
    "\n",
    "df_ext['Плюшки'] = df_ext[bool_cols].sum(axis=1)"
   ]
  },
  {
   "cell_type": "markdown",
   "metadata": {},
   "source": [
    "### Claster features"
   ]
  },
  {
   "cell_type": "code",
   "execution_count": 103,
   "metadata": {},
   "outputs": [],
   "source": [
    "kmeans = KMeans(n_clusters=15, n_init=10, random_state=seed)\n",
    "kmeans.fit(train[['Широта', 'Долгота']])\n",
    "\n",
    "df_ext['Кластер'] = kmeans.predict(df_ext[['Широта', 'Долгота']])\n",
    "df_ext['Кластер'] = df_ext['Кластер'].astype(\"object\")\n",
    "\n",
    "df_cd = kmeans.transform(df_ext[['Широта', 'Долгота']])\n",
    "df_cd = pd.DataFrame(df_cd, columns=[f\"Центр_{i}\" for i in range(df_cd.shape[1])], index=df_ext.index)\n",
    "df_ext = df_ext.join(df_cd)"
   ]
  },
  {
   "cell_type": "markdown",
   "metadata": {},
   "source": [
    "### PCA"
   ]
  },
  {
   "cell_type": "code",
   "execution_count": 104,
   "metadata": {},
   "outputs": [],
   "source": [
    "def make_mi_scores(X, y):\n",
    "    mi_scores = mutual_info_regression(X, y, random_state=seed)\n",
    "    mi_scores = pd.Series(mi_scores, name=\"MI Scores\", index=X.columns)\n",
    "    mi_scores = mi_scores.sort_values(ascending=False)\n",
    "    return mi_scores\n",
    "\n",
    "pca_cols = ['Площадь', 'Размер_участка', 'Расход_тепла', 'Кво_вредных_выбросов',\n",
    "            'Лог_Площадь', 'Лог_Размер_участка', 'Лог_Расход_тепла', 'Лог_Кво_вредных_выбросов', \n",
    "            'Кво_комнат', 'Кво_спален', 'Кво_ванных',]\n",
    "\n",
    "train_pca = df_ext.iloc[:train_idx][pca_cols].copy()\n",
    "train_pca_scaled = (train_pca - train_pca.mean(axis=0)) / train_pca.std(axis=0)\n",
    "pca = PCA(random_state=seed)\n",
    "\n",
    "X_pca = pca.fit_transform(train_pca_scaled)\n",
    "component_names = [f\"PC{i}\" for i in range(X_pca.shape[1])]\n",
    "X_pca = pd.DataFrame(X_pca, columns=component_names)\n",
    "pca_mi = make_mi_scores(X_pca, train[target])\n",
    "\n",
    "top_pca = list(pca_mi.index[:5])\n",
    "df_pca = df_ext[pca_cols].copy()\n",
    "df_pca_scaled = (df_pca - df_pca.mean(axis=0)) / df_pca.std(axis=0)\n",
    "df_pca = pca.transform(df_pca_scaled)\n",
    "\n",
    "df_ext[top_pca] = df_pca[:, [int(pca_t[2:]) for pca_t in top_pca]]\n",
    "\n",
    "pca_cols = ['Центр_0', 'Центр_1','Центр_2', 'Центр_3', \n",
    "            'Центр_4', 'Центр_5', 'Центр_6', 'Центр_7',\n",
    "            'Центр_8', 'Центр_9', 'Центр_10', 'Центр_11', \n",
    "            'Центр_12', 'Центр_13', 'Центр_14',]\n",
    "\n",
    "\n",
    "train_pca = df_ext.iloc[:train_idx][pca_cols].copy()\n",
    "pca = PCA(random_state=seed)\n",
    "\n",
    "X_pca = pca.fit_transform(train_pca)\n",
    "\n",
    "component_names = [f\"PC_ц{i}\" for i in range(X_pca.shape[1])]\n",
    "X_pca = pd.DataFrame(X_pca, columns=component_names)\n",
    "\n",
    "pca_mi = make_mi_scores(X_pca, train[target])\n",
    "\n",
    "top_pca_c = list(pca_mi.index[:10])\n",
    "df_pca = pca.transform(df_ext[pca_cols])\n",
    "\n",
    "df_ext[top_pca_c] = df_pca[:, [int(pca_t[4:]) for pca_t in top_pca_c]]"
   ]
  },
  {
   "cell_type": "markdown",
   "metadata": {},
   "source": [
    "## Deleting bad features"
   ]
  },
  {
   "cell_type": "code",
   "execution_count": 105,
   "metadata": {},
   "outputs": [],
   "source": [
    "drop_cols = [\n",
    "    'Последний_этаж', 'Верхний_этаж', 'Этаж',\n",
    "    'Центр_2', 'Центр_3', 'Центр_4', 'Центр_6', 'Центр_7'\n",
    "    ]\n",
    "df_ext.drop(columns=drop_cols, inplace=True)"
   ]
  },
  {
   "cell_type": "markdown",
   "metadata": {},
   "source": [
    "# Prediction"
   ]
  },
  {
   "cell_type": "code",
   "execution_count": 106,
   "metadata": {},
   "outputs": [],
   "source": [
    "class MyMAPE: # MAPE for catboost log preds\n",
    "    @staticmethod\n",
    "    def mape(y_t, y_p):\n",
    "        return mape(y_t, y_p)\n",
    "    \n",
    "    def get_final_error(self, error, weight):\n",
    "        return error\n",
    "    \n",
    "    def is_max_optimal(self):\n",
    "        # the larger metric value the better\n",
    "        return False\n",
    "\n",
    "    def evaluate(self, y_p, y_t, weight):\n",
    "        score = self.mape(np.exp(y_t), np.exp(y_p[0]))\n",
    "        return score, 0"
   ]
  },
  {
   "cell_type": "code",
   "execution_count": 107,
   "metadata": {},
   "outputs": [],
   "source": [
    "models = np.load(path.join(AUX_WEIGHT_ROOT, 'bagging_models.npy'), allow_pickle=True)\n",
    "weights = np.load(path.join(AUX_WEIGHT_ROOT, 'vote_weights.npy'))"
   ]
  },
  {
   "cell_type": "code",
   "execution_count": 108,
   "metadata": {},
   "outputs": [],
   "source": [
    "def get_pred(models, x, strat='', weights=None):\n",
    "    preds = np.zeros(x.shape[0])\n",
    "    if strat == 'top' and weights is not None: \n",
    "        preds = np.exp(models[np.argmax(weights)].predict(x))\n",
    "    else:\n",
    "        for m, w in zip(models, weights):\n",
    "            if strat == 'weighted' and weights is not None: preds += w * np.exp(m.predict(x))\n",
    "            else: preds += np.exp(m.predict(x))\n",
    "\n",
    "    if strat == '': preds /= len(models)\n",
    "    return preds"
   ]
  },
  {
   "cell_type": "code",
   "execution_count": 109,
   "metadata": {},
   "outputs": [
    {
     "data": {
      "text/plain": [
       "'sub_private_20033002.csv'"
      ]
     },
     "execution_count": 109,
     "metadata": {},
     "output_type": "execute_result"
    }
   ],
   "source": [
    "X_test = df_ext[train_idx:]\n",
    "\n",
    "cat_cols = list(df_ext.select_dtypes(include='O').columns)\n",
    "test_pool = Pool(X_test, cat_features=cat_cols)\n",
    "\n",
    "y_pred = get_pred(models, test_pool, 'weighted', weights)\n",
    "\n",
    "submission = pd.DataFrame({target: y_pred}, index=X_test.index)\n",
    "sub_name = f'sub_private_{seed}.csv'\n",
    "# submission.to_csv(sub_name)\n",
    "sub_name"
   ]
  }
 ],
 "metadata": {
  "kernelspec": {
   "display_name": "rucode_2024",
   "language": "python",
   "name": "python3"
  },
  "language_info": {
   "codemirror_mode": {
    "name": "ipython",
    "version": 3
   },
   "file_extension": ".py",
   "mimetype": "text/x-python",
   "name": "python",
   "nbconvert_exporter": "python",
   "pygments_lexer": "ipython3",
   "version": "3.12.3"
  }
 },
 "nbformat": 4,
 "nbformat_minor": 2
}
